{
 "cells": [
  {
   "cell_type": "markdown",
   "metadata": {},
   "source": [
    "# Explore the dataset"
   ]
  },
  {
   "cell_type": "code",
   "execution_count": 24,
   "metadata": {},
   "outputs": [],
   "source": [
    "from pathlib import Path\n",
    "import os\n",
    "import pandas as pd\n",
    "import matplotlib.pyplot as plt\n",
    "import seaborn as sns"
   ]
  },
  {
   "cell_type": "code",
   "execution_count": 25,
   "metadata": {},
   "outputs": [
    {
     "data": {
      "text/plain": [
       "WindowsPath('C:/Rubenchik_projects/DS_project_2_year/data/processed/clean_dataset.parquet')"
      ]
     },
     "execution_count": 25,
     "metadata": {},
     "output_type": "execute_result"
    }
   ],
   "source": [
    "ROOT = Path().resolve().parent\n",
    "DATASET = ROOT / 'data' / 'processed' / 'clean_dataset.parquet'\n",
    "\n",
    "DATASET"
   ]
  },
  {
   "cell_type": "code",
   "execution_count": 26,
   "metadata": {},
   "outputs": [
    {
     "data": {
      "text/html": [
       "<div>\n",
       "<style scoped>\n",
       "    .dataframe tbody tr th:only-of-type {\n",
       "        vertical-align: middle;\n",
       "    }\n",
       "\n",
       "    .dataframe tbody tr th {\n",
       "        vertical-align: top;\n",
       "    }\n",
       "\n",
       "    .dataframe thead th {\n",
       "        text-align: right;\n",
       "    }\n",
       "</style>\n",
       "<table border=\"1\" class=\"dataframe\">\n",
       "  <thead>\n",
       "    <tr style=\"text-align: right;\">\n",
       "      <th>feature_label</th>\n",
       "      <th>url</th>\n",
       "      <th>images</th>\n",
       "      <th>source</th>\n",
       "      <th>price</th>\n",
       "      <th>description</th>\n",
       "      <th>municipality</th>\n",
       "      <th>build_area</th>\n",
       "      <th>price_per_sqm</th>\n",
       "      <th>building_floor_count</th>\n",
       "      <th>construction_year</th>\n",
       "      <th>...</th>\n",
       "      <th>longitude</th>\n",
       "      <th>number_of_bedrooms</th>\n",
       "      <th>property_type</th>\n",
       "      <th>renovated</th>\n",
       "      <th>renovation_year</th>\n",
       "      <th>uncovered_veranda_area</th>\n",
       "      <th>address</th>\n",
       "      <th>is_live</th>\n",
       "      <th>last_seen_at</th>\n",
       "      <th>first_seen_at</th>\n",
       "    </tr>\n",
       "    <tr>\n",
       "      <th>n_sample</th>\n",
       "      <th></th>\n",
       "      <th></th>\n",
       "      <th></th>\n",
       "      <th></th>\n",
       "      <th></th>\n",
       "      <th></th>\n",
       "      <th></th>\n",
       "      <th></th>\n",
       "      <th></th>\n",
       "      <th></th>\n",
       "      <th></th>\n",
       "      <th></th>\n",
       "      <th></th>\n",
       "      <th></th>\n",
       "      <th></th>\n",
       "      <th></th>\n",
       "      <th></th>\n",
       "      <th></th>\n",
       "      <th></th>\n",
       "      <th></th>\n",
       "      <th></th>\n",
       "    </tr>\n",
       "  </thead>\n",
       "  <tbody>\n",
       "    <tr>\n",
       "      <th>0</th>\n",
       "      <td>https://www.goldenhome.gr/property/view/429997...</td>\n",
       "      <td>[\"https://d30jx35fjxjw3y.cloudfront.net/images...</td>\n",
       "      <td>goldenhome</td>\n",
       "      <td>187500</td>\n",
       "      <td>For sale, a 50sqm apartment, comprising 1 bedr...</td>\n",
       "      <td>Athens</td>\n",
       "      <td>50.0</td>\n",
       "      <td>3750.00</td>\n",
       "      <td>NaN</td>\n",
       "      <td>2024.0</td>\n",
       "      <td>...</td>\n",
       "      <td>23.728490</td>\n",
       "      <td>1.0</td>\n",
       "      <td>Apartment</td>\n",
       "      <td>1.0</td>\n",
       "      <td>NaN</td>\n",
       "      <td>NaN</td>\n",
       "      <td>NEOS KOSMOS - CENTER</td>\n",
       "      <td>True</td>\n",
       "      <td>2025-01-06 03:19:21.874</td>\n",
       "      <td>2024-04-25 04:42:52.861</td>\n",
       "    </tr>\n",
       "    <tr>\n",
       "      <th>1</th>\n",
       "      <td>https://www.goldenhome.gr/property/view/416195...</td>\n",
       "      <td>[\"https://d30jx35fjxjw3y.cloudfront.net/images...</td>\n",
       "      <td>goldenhome</td>\n",
       "      <td>93000</td>\n",
       "      <td>Beautiful ground floor apartment, 55 sq.m., in...</td>\n",
       "      <td>Athens</td>\n",
       "      <td>55.0</td>\n",
       "      <td>1691.00</td>\n",
       "      <td>NaN</td>\n",
       "      <td>1960.0</td>\n",
       "      <td>...</td>\n",
       "      <td>23.745672</td>\n",
       "      <td>1.0</td>\n",
       "      <td>Apartment</td>\n",
       "      <td>1.0</td>\n",
       "      <td>NaN</td>\n",
       "      <td>NaN</td>\n",
       "      <td>KIPSELI - PLATIA KIPSELIS</td>\n",
       "      <td>True</td>\n",
       "      <td>2025-01-06 03:17:54.901</td>\n",
       "      <td>2024-03-06 03:53:53.052</td>\n",
       "    </tr>\n",
       "    <tr>\n",
       "      <th>2</th>\n",
       "      <td>https://www.kwgreece.gr/property/961161</td>\n",
       "      <td>[\"https://d30jx35fjxjw3y.cloudfront.net/images...</td>\n",
       "      <td>kellerwilliams</td>\n",
       "      <td>183000</td>\n",
       "      <td>Exclusively from our company, an excellent apa...</td>\n",
       "      <td>Athens</td>\n",
       "      <td>85.0</td>\n",
       "      <td>2152.94</td>\n",
       "      <td>NaN</td>\n",
       "      <td>1991.0</td>\n",
       "      <td>...</td>\n",
       "      <td>23.736629</td>\n",
       "      <td>2.0</td>\n",
       "      <td>Apartment</td>\n",
       "      <td>0.0</td>\n",
       "      <td>NaN</td>\n",
       "      <td>NaN</td>\n",
       "      <td>Kipseli</td>\n",
       "      <td>False</td>\n",
       "      <td>2024-10-22 10:29:59.623</td>\n",
       "      <td>2024-07-05 10:02:46.482</td>\n",
       "    </tr>\n",
       "    <tr>\n",
       "      <th>3</th>\n",
       "      <td>https://www.goldenhome.gr/property/view/279972...</td>\n",
       "      <td>[\"https://d30jx35fjxjw3y.cloudfront.net/images...</td>\n",
       "      <td>goldenhome</td>\n",
       "      <td>95000</td>\n",
       "      <td>None</td>\n",
       "      <td>Athens</td>\n",
       "      <td>106.0</td>\n",
       "      <td>896.00</td>\n",
       "      <td>NaN</td>\n",
       "      <td>1926.0</td>\n",
       "      <td>...</td>\n",
       "      <td>23.709102</td>\n",
       "      <td>2.0</td>\n",
       "      <td>Apartment</td>\n",
       "      <td>1.0</td>\n",
       "      <td>NaN</td>\n",
       "      <td>NaN</td>\n",
       "      <td>PETRALONA - KATO PETRALONA</td>\n",
       "      <td>False</td>\n",
       "      <td>2024-04-01 05:23:23.278</td>\n",
       "      <td>2024-01-10 15:18:05.212</td>\n",
       "    </tr>\n",
       "    <tr>\n",
       "      <th>4</th>\n",
       "      <td>https://www.goldenhome.gr/property/view/377070...</td>\n",
       "      <td>[\"https://d30jx35fjxjw3y.cloudfront.net/images...</td>\n",
       "      <td>goldenhome</td>\n",
       "      <td>108000</td>\n",
       "      <td>None</td>\n",
       "      <td>Athens</td>\n",
       "      <td>54.0</td>\n",
       "      <td>2000.00</td>\n",
       "      <td>NaN</td>\n",
       "      <td>1979.0</td>\n",
       "      <td>...</td>\n",
       "      <td>23.746897</td>\n",
       "      <td>1.0</td>\n",
       "      <td>Apartment</td>\n",
       "      <td>0.0</td>\n",
       "      <td>NaN</td>\n",
       "      <td>NaN</td>\n",
       "      <td>KIPSELI - ANO KIPSELI - EVELPIDON</td>\n",
       "      <td>True</td>\n",
       "      <td>2025-01-06 03:07:38.366</td>\n",
       "      <td>2024-01-09 22:05:59.204</td>\n",
       "    </tr>\n",
       "  </tbody>\n",
       "</table>\n",
       "<p>5 rows × 23 columns</p>\n",
       "</div>"
      ],
      "text/plain": [
       "feature_label                                                url  \\\n",
       "n_sample                                                           \n",
       "0              https://www.goldenhome.gr/property/view/429997...   \n",
       "1              https://www.goldenhome.gr/property/view/416195...   \n",
       "2                        https://www.kwgreece.gr/property/961161   \n",
       "3              https://www.goldenhome.gr/property/view/279972...   \n",
       "4              https://www.goldenhome.gr/property/view/377070...   \n",
       "\n",
       "feature_label                                             images  \\\n",
       "n_sample                                                           \n",
       "0              [\"https://d30jx35fjxjw3y.cloudfront.net/images...   \n",
       "1              [\"https://d30jx35fjxjw3y.cloudfront.net/images...   \n",
       "2              [\"https://d30jx35fjxjw3y.cloudfront.net/images...   \n",
       "3              [\"https://d30jx35fjxjw3y.cloudfront.net/images...   \n",
       "4              [\"https://d30jx35fjxjw3y.cloudfront.net/images...   \n",
       "\n",
       "feature_label          source   price  \\\n",
       "n_sample                                \n",
       "0                  goldenhome  187500   \n",
       "1                  goldenhome   93000   \n",
       "2              kellerwilliams  183000   \n",
       "3                  goldenhome   95000   \n",
       "4                  goldenhome  108000   \n",
       "\n",
       "feature_label                                        description municipality  \\\n",
       "n_sample                                                                        \n",
       "0              For sale, a 50sqm apartment, comprising 1 bedr...       Athens   \n",
       "1              Beautiful ground floor apartment, 55 sq.m., in...       Athens   \n",
       "2              Exclusively from our company, an excellent apa...       Athens   \n",
       "3                                                           None       Athens   \n",
       "4                                                           None       Athens   \n",
       "\n",
       "feature_label  build_area  price_per_sqm  building_floor_count  \\\n",
       "n_sample                                                         \n",
       "0                    50.0        3750.00                   NaN   \n",
       "1                    55.0        1691.00                   NaN   \n",
       "2                    85.0        2152.94                   NaN   \n",
       "3                   106.0         896.00                   NaN   \n",
       "4                    54.0        2000.00                   NaN   \n",
       "\n",
       "feature_label  construction_year  ...  longitude  number_of_bedrooms  \\\n",
       "n_sample                          ...                                  \n",
       "0                         2024.0  ...  23.728490                 1.0   \n",
       "1                         1960.0  ...  23.745672                 1.0   \n",
       "2                         1991.0  ...  23.736629                 2.0   \n",
       "3                         1926.0  ...  23.709102                 2.0   \n",
       "4                         1979.0  ...  23.746897                 1.0   \n",
       "\n",
       "feature_label  property_type  renovated  renovation_year  \\\n",
       "n_sample                                                   \n",
       "0                  Apartment        1.0              NaN   \n",
       "1                  Apartment        1.0              NaN   \n",
       "2                  Apartment        0.0              NaN   \n",
       "3                  Apartment        1.0              NaN   \n",
       "4                  Apartment        0.0              NaN   \n",
       "\n",
       "feature_label uncovered_veranda_area                            address  \\\n",
       "n_sample                                                                  \n",
       "0                                NaN               NEOS KOSMOS - CENTER   \n",
       "1                                NaN          KIPSELI - PLATIA KIPSELIS   \n",
       "2                                NaN                            Kipseli   \n",
       "3                                NaN         PETRALONA - KATO PETRALONA   \n",
       "4                                NaN  KIPSELI - ANO KIPSELI - EVELPIDON   \n",
       "\n",
       "feature_label  is_live            last_seen_at           first_seen_at  \n",
       "n_sample                                                                \n",
       "0                 True 2025-01-06 03:19:21.874 2024-04-25 04:42:52.861  \n",
       "1                 True 2025-01-06 03:17:54.901 2024-03-06 03:53:53.052  \n",
       "2                False 2024-10-22 10:29:59.623 2024-07-05 10:02:46.482  \n",
       "3                False 2024-04-01 05:23:23.278 2024-01-10 15:18:05.212  \n",
       "4                 True 2025-01-06 03:07:38.366 2024-01-09 22:05:59.204  \n",
       "\n",
       "[5 rows x 23 columns]"
      ]
     },
     "execution_count": 26,
     "metadata": {},
     "output_type": "execute_result"
    }
   ],
   "source": [
    "df = pd.read_parquet(DATASET)\n",
    "df.head()"
   ]
  },
  {
   "cell_type": "code",
   "execution_count": 27,
   "metadata": {},
   "outputs": [
    {
     "data": {
      "text/plain": [
       "Index(['url', 'images', 'source', 'price', 'description', 'municipality',\n",
       "       'build_area', 'price_per_sqm', 'building_floor_count',\n",
       "       'construction_year', 'covered_veranda_area', 'floor_number', 'latitude',\n",
       "       'longitude', 'number_of_bedrooms', 'property_type', 'renovated',\n",
       "       'renovation_year', 'uncovered_veranda_area', 'address', 'is_live',\n",
       "       'last_seen_at', 'first_seen_at'],\n",
       "      dtype='object', name='feature_label')"
      ]
     },
     "execution_count": 27,
     "metadata": {},
     "output_type": "execute_result"
    }
   ],
   "source": [
    "df.columns"
   ]
  },
  {
   "cell_type": "code",
   "execution_count": 28,
   "metadata": {},
   "outputs": [
    {
     "data": {
      "text/plain": [
       "13206"
      ]
     },
     "execution_count": 28,
     "metadata": {},
     "output_type": "execute_result"
    }
   ],
   "source": [
    "len(df)"
   ]
  },
  {
   "cell_type": "code",
   "execution_count": 29,
   "metadata": {},
   "outputs": [
    {
     "data": {
      "text/html": [
       "<div>\n",
       "<style scoped>\n",
       "    .dataframe tbody tr th:only-of-type {\n",
       "        vertical-align: middle;\n",
       "    }\n",
       "\n",
       "    .dataframe tbody tr th {\n",
       "        vertical-align: top;\n",
       "    }\n",
       "\n",
       "    .dataframe thead th {\n",
       "        text-align: right;\n",
       "    }\n",
       "</style>\n",
       "<table border=\"1\" class=\"dataframe\">\n",
       "  <thead>\n",
       "    <tr style=\"text-align: right;\">\n",
       "      <th>feature_label</th>\n",
       "      <th>price</th>\n",
       "      <th>build_area</th>\n",
       "      <th>price_per_sqm</th>\n",
       "      <th>building_floor_count</th>\n",
       "      <th>construction_year</th>\n",
       "      <th>covered_veranda_area</th>\n",
       "      <th>floor_number</th>\n",
       "      <th>latitude</th>\n",
       "      <th>longitude</th>\n",
       "      <th>number_of_bedrooms</th>\n",
       "      <th>renovated</th>\n",
       "      <th>renovation_year</th>\n",
       "      <th>uncovered_veranda_area</th>\n",
       "      <th>last_seen_at</th>\n",
       "      <th>first_seen_at</th>\n",
       "    </tr>\n",
       "  </thead>\n",
       "  <tbody>\n",
       "    <tr>\n",
       "      <th>count</th>\n",
       "      <td>1.320600e+04</td>\n",
       "      <td>13206.000000</td>\n",
       "      <td>13201.000000</td>\n",
       "      <td>5794.000000</td>\n",
       "      <td>12869.000000</td>\n",
       "      <td>0.0</td>\n",
       "      <td>11969.000000</td>\n",
       "      <td>13206.000000</td>\n",
       "      <td>13206.000000</td>\n",
       "      <td>12976.000000</td>\n",
       "      <td>9404.000000</td>\n",
       "      <td>1023.000000</td>\n",
       "      <td>1375.000000</td>\n",
       "      <td>13206</td>\n",
       "      <td>13206</td>\n",
       "    </tr>\n",
       "    <tr>\n",
       "      <th>mean</th>\n",
       "      <td>1.947504e+05</td>\n",
       "      <td>78.034582</td>\n",
       "      <td>2542.469017</td>\n",
       "      <td>13.560580</td>\n",
       "      <td>1976.871552</td>\n",
       "      <td>NaN</td>\n",
       "      <td>2.435124</td>\n",
       "      <td>37.990517</td>\n",
       "      <td>23.735219</td>\n",
       "      <td>1.830919</td>\n",
       "      <td>0.569758</td>\n",
       "      <td>2018.436950</td>\n",
       "      <td>25.206604</td>\n",
       "      <td>2024-10-13 19:56:19.871944704</td>\n",
       "      <td>2024-05-11 14:28:36.333624832</td>\n",
       "    </tr>\n",
       "    <tr>\n",
       "      <th>min</th>\n",
       "      <td>0.000000e+00</td>\n",
       "      <td>0.000000</td>\n",
       "      <td>0.000000</td>\n",
       "      <td>0.000000</td>\n",
       "      <td>0.000000</td>\n",
       "      <td>NaN</td>\n",
       "      <td>-1.000000</td>\n",
       "      <td>37.949333</td>\n",
       "      <td>23.692240</td>\n",
       "      <td>0.000000</td>\n",
       "      <td>0.000000</td>\n",
       "      <td>1973.000000</td>\n",
       "      <td>0.010000</td>\n",
       "      <td>2024-01-04 10:22:17.909000</td>\n",
       "      <td>2024-01-04 10:10:08.801000</td>\n",
       "    </tr>\n",
       "    <tr>\n",
       "      <th>25%</th>\n",
       "      <td>1.000000e+05</td>\n",
       "      <td>52.000000</td>\n",
       "      <td>1556.000000</td>\n",
       "      <td>4.000000</td>\n",
       "      <td>1965.000000</td>\n",
       "      <td>NaN</td>\n",
       "      <td>1.000000</td>\n",
       "      <td>37.979560</td>\n",
       "      <td>23.725655</td>\n",
       "      <td>1.000000</td>\n",
       "      <td>0.000000</td>\n",
       "      <td>2017.000000</td>\n",
       "      <td>10.000000</td>\n",
       "      <td>2024-07-15 06:35:51.306500096</td>\n",
       "      <td>2024-01-10 19:41:31.658500096</td>\n",
       "    </tr>\n",
       "    <tr>\n",
       "      <th>50%</th>\n",
       "      <td>1.550000e+05</td>\n",
       "      <td>72.000000</td>\n",
       "      <td>2151.000000</td>\n",
       "      <td>5.000000</td>\n",
       "      <td>1971.000000</td>\n",
       "      <td>NaN</td>\n",
       "      <td>2.000000</td>\n",
       "      <td>37.992789</td>\n",
       "      <td>23.733010</td>\n",
       "      <td>2.000000</td>\n",
       "      <td>1.000000</td>\n",
       "      <td>2021.000000</td>\n",
       "      <td>20.000000</td>\n",
       "      <td>2025-01-06 03:03:13.951000064</td>\n",
       "      <td>2024-05-15 14:47:09.397499904</td>\n",
       "    </tr>\n",
       "    <tr>\n",
       "      <th>75%</th>\n",
       "      <td>2.400000e+05</td>\n",
       "      <td>95.000000</td>\n",
       "      <td>3092.000000</td>\n",
       "      <td>6.000000</td>\n",
       "      <td>1980.000000</td>\n",
       "      <td>NaN</td>\n",
       "      <td>4.000000</td>\n",
       "      <td>38.002634</td>\n",
       "      <td>23.743718</td>\n",
       "      <td>2.000000</td>\n",
       "      <td>1.000000</td>\n",
       "      <td>2023.000000</td>\n",
       "      <td>30.000000</td>\n",
       "      <td>2025-01-06 09:03:21.832000</td>\n",
       "      <td>2024-08-09 09:26:55.216750080</td>\n",
       "    </tr>\n",
       "    <tr>\n",
       "      <th>max</th>\n",
       "      <td>5.500000e+06</td>\n",
       "      <td>1211.000000</td>\n",
       "      <td>87000.000000</td>\n",
       "      <td>51515.000000</td>\n",
       "      <td>2026.000000</td>\n",
       "      <td>NaN</td>\n",
       "      <td>14.000000</td>\n",
       "      <td>38.033198</td>\n",
       "      <td>23.788156</td>\n",
       "      <td>20.000000</td>\n",
       "      <td>1.000000</td>\n",
       "      <td>2025.000000</td>\n",
       "      <td>500.000000</td>\n",
       "      <td>2025-01-12 09:23:17.138000</td>\n",
       "      <td>2025-01-12 03:35:18.320000</td>\n",
       "    </tr>\n",
       "    <tr>\n",
       "      <th>std</th>\n",
       "      <td>1.755571e+05</td>\n",
       "      <td>45.795816</td>\n",
       "      <td>1648.947202</td>\n",
       "      <td>676.738883</td>\n",
       "      <td>47.285287</td>\n",
       "      <td>NaN</td>\n",
       "      <td>1.941488</td>\n",
       "      <td>0.017150</td>\n",
       "      <td>0.014493</td>\n",
       "      <td>0.877597</td>\n",
       "      <td>0.495136</td>\n",
       "      <td>6.695479</td>\n",
       "      <td>26.908946</td>\n",
       "      <td>NaN</td>\n",
       "      <td>NaN</td>\n",
       "    </tr>\n",
       "  </tbody>\n",
       "</table>\n",
       "</div>"
      ],
      "text/plain": [
       "feature_label         price    build_area  price_per_sqm  \\\n",
       "count          1.320600e+04  13206.000000   13201.000000   \n",
       "mean           1.947504e+05     78.034582    2542.469017   \n",
       "min            0.000000e+00      0.000000       0.000000   \n",
       "25%            1.000000e+05     52.000000    1556.000000   \n",
       "50%            1.550000e+05     72.000000    2151.000000   \n",
       "75%            2.400000e+05     95.000000    3092.000000   \n",
       "max            5.500000e+06   1211.000000   87000.000000   \n",
       "std            1.755571e+05     45.795816    1648.947202   \n",
       "\n",
       "feature_label  building_floor_count  construction_year  covered_veranda_area  \\\n",
       "count                   5794.000000       12869.000000                   0.0   \n",
       "mean                      13.560580        1976.871552                   NaN   \n",
       "min                        0.000000           0.000000                   NaN   \n",
       "25%                        4.000000        1965.000000                   NaN   \n",
       "50%                        5.000000        1971.000000                   NaN   \n",
       "75%                        6.000000        1980.000000                   NaN   \n",
       "max                    51515.000000        2026.000000                   NaN   \n",
       "std                      676.738883          47.285287                   NaN   \n",
       "\n",
       "feature_label  floor_number      latitude     longitude  number_of_bedrooms  \\\n",
       "count          11969.000000  13206.000000  13206.000000        12976.000000   \n",
       "mean               2.435124     37.990517     23.735219            1.830919   \n",
       "min               -1.000000     37.949333     23.692240            0.000000   \n",
       "25%                1.000000     37.979560     23.725655            1.000000   \n",
       "50%                2.000000     37.992789     23.733010            2.000000   \n",
       "75%                4.000000     38.002634     23.743718            2.000000   \n",
       "max               14.000000     38.033198     23.788156           20.000000   \n",
       "std                1.941488      0.017150      0.014493            0.877597   \n",
       "\n",
       "feature_label    renovated  renovation_year  uncovered_veranda_area  \\\n",
       "count          9404.000000      1023.000000             1375.000000   \n",
       "mean              0.569758      2018.436950               25.206604   \n",
       "min               0.000000      1973.000000                0.010000   \n",
       "25%               0.000000      2017.000000               10.000000   \n",
       "50%               1.000000      2021.000000               20.000000   \n",
       "75%               1.000000      2023.000000               30.000000   \n",
       "max               1.000000      2025.000000              500.000000   \n",
       "std               0.495136         6.695479               26.908946   \n",
       "\n",
       "feature_label                   last_seen_at                  first_seen_at  \n",
       "count                                  13206                          13206  \n",
       "mean           2024-10-13 19:56:19.871944704  2024-05-11 14:28:36.333624832  \n",
       "min               2024-01-04 10:22:17.909000     2024-01-04 10:10:08.801000  \n",
       "25%            2024-07-15 06:35:51.306500096  2024-01-10 19:41:31.658500096  \n",
       "50%            2025-01-06 03:03:13.951000064  2024-05-15 14:47:09.397499904  \n",
       "75%               2025-01-06 09:03:21.832000  2024-08-09 09:26:55.216750080  \n",
       "max               2025-01-12 09:23:17.138000     2025-01-12 03:35:18.320000  \n",
       "std                                      NaN                            NaN  "
      ]
     },
     "execution_count": 29,
     "metadata": {},
     "output_type": "execute_result"
    }
   ],
   "source": [
    "df.describe()"
   ]
  },
  {
   "cell_type": "code",
   "execution_count": 30,
   "metadata": {},
   "outputs": [
    {
     "data": {
      "text/plain": [
       "feature_label\n",
       "url                           0\n",
       "images                        0\n",
       "source                        0\n",
       "price                         0\n",
       "description                4317\n",
       "municipality                  0\n",
       "build_area                    0\n",
       "price_per_sqm                 5\n",
       "building_floor_count       7412\n",
       "construction_year           337\n",
       "covered_veranda_area      13206\n",
       "floor_number               1237\n",
       "latitude                      0\n",
       "longitude                     0\n",
       "number_of_bedrooms          230\n",
       "property_type                 0\n",
       "renovated                  3802\n",
       "renovation_year           12183\n",
       "uncovered_veranda_area    11831\n",
       "address                     189\n",
       "is_live                       0\n",
       "last_seen_at                  0\n",
       "first_seen_at                 0\n",
       "dtype: int64"
      ]
     },
     "execution_count": 30,
     "metadata": {},
     "output_type": "execute_result"
    }
   ],
   "source": [
    "missing_values = df.isnull().sum()\n",
    "missing_values"
   ]
  },
  {
   "cell_type": "code",
   "execution_count": 46,
   "metadata": {},
   "outputs": [
    {
     "name": "stdout",
     "output_type": "stream",
     "text": [
      "Unique: 406\n",
      "Total entries: 13206\n",
      "Min: 0.0\n",
      "Max: 1211.0\n"
     ]
    },
    {
     "data": {
      "image/png": "[encoded data removed]",
      "text/plain": [
       "<Figure size 500x500 with 1 Axes>"
      ]
     },
     "metadata": {},
     "output_type": "display_data"
    }
   ],
   "source": [
    "\n",
    "def distribution_plot(DATASET,column_name: str,min_val: float = None, max_val:float = None):\n",
    "    # Load dataset (replace with actual data file)\n",
    "    df = pd.read_parquet(DATASET)  \n",
    "\n",
    "    # Check unique years\n",
    "    unique_values = df[column_name].nunique()\n",
    "    total_entries = len(df)\n",
    "    min_value = df[column_name].min()\n",
    "    max_value = df[column_name].max()\n",
    "    print(f\"Unique: {unique_values}\")\n",
    "    print(f\"Total entries: {total_entries}\")\n",
    "    print(f\"Min: {min_value}\")\n",
    "    print(f\"Max: {max_value}\")\n",
    "\n",
    "    # Plot the distribution\n",
    "    start = min_value\n",
    "    end = max_value\n",
    "    sns.displot(df[column_name], bins=100, discrete=True)  # Treat as discrete\n",
    "    if min_val:\n",
    "        start = min_val\n",
    "    if max_val:\n",
    "        end = max_val\n",
    "    \n",
    "\n",
    "    plt.xlim(start, end)\n",
    "    plt.title(f\"Column '{column_name}' Distribution ({unique_values} unique values)\")\n",
    "    plt.xlabel(column_name)\n",
    "    plt.ylabel(\"Count\")\n",
    "    plt.xticks(rotation=45)  # Rotate labels if needed\n",
    "    plt.show()\n",
    "\n",
    "distribution_plot(DATASET,'build_area',max_val=500)"
   ]
  },
  {
   "cell_type": "code",
   "execution_count": 42,
   "metadata": {},
   "outputs": [
    {
     "name": "stdout",
     "output_type": "stream",
     "text": [
      "Unique: 15\n",
      "Total entries: 13206\n",
      "Min: 0.0\n",
      "Max: 20.0\n"
     ]
    },
    {
     "data": {
      "image/png": "[encoded data removed]",
      "text/plain": [
       "<Figure size 500x500 with 1 Axes>"
      ]
     },
     "metadata": {},
     "output_type": "display_data"
    }
   ],
   "source": [
    "distribution_plot(DATASET,'number_of_bedrooms')"
   ]
  },
  {
   "cell_type": "code",
   "execution_count": 45,
   "metadata": {},
   "outputs": [
    {
     "name": "stdout",
     "output_type": "stream",
     "text": [
      "Unique: 107\n",
      "Total entries: 13206\n",
      "Min: 0.0\n",
      "Max: 2026.0\n"
     ]
    },
    {
     "data": {
      "image/png": "[encoded data removed]",
      "text/plain": [
       "<Figure size 500x500 with 1 Axes>"
      ]
     },
     "metadata": {},
     "output_type": "display_data"
    }
   ],
   "source": [
    "distribution_plot(DATASET,'construction_year',min_val=1870)"
   ]
  },
  {
   "cell_type": "code",
   "execution_count": 47,
   "metadata": {},
   "outputs": [
    {
     "name": "stdout",
     "output_type": "stream",
     "text": [
      "Unique: 2\n",
      "Total entries: 13206\n",
      "Min: 0.0\n",
      "Max: 1.0\n"
     ]
    },
    {
     "data": {
      "image/png": "[encoded data removed]",
      "text/plain": [
       "<Figure size 500x500 with 1 Axes>"
      ]
     },
     "metadata": {},
     "output_type": "display_data"
    }
   ],
   "source": [
    "distribution_plot(DATASET,'renovated')"
   ]
  },
  {
   "cell_type": "code",
   "execution_count": 48,
   "metadata": {},
   "outputs": [
    {
     "name": "stdout",
     "output_type": "stream",
     "text": [
      "Unique: 14\n",
      "Total entries: 13206\n",
      "Min: -1.0\n",
      "Max: 14.0\n"
     ]
    },
    {
     "data": {
      "image/png": "[encoded data removed]",
      "text/plain": [
       "<Figure size 500x500 with 1 Axes>"
      ]
     },
     "metadata": {},
     "output_type": "display_data"
    }
   ],
   "source": [
    "distribution_plot(DATASET,'floor_number')"
   ]
  },
  {
   "cell_type": "code",
   "execution_count": 50,
   "metadata": {},
   "outputs": [],
   "source": [
    "import folium\n",
    "\n",
    "# Example list of (latitude, longitude) pairs\n",
    "coordinates = [(34.0522, -118.2437), (40.7128, -74.0060), (51.5074, -0.1278)]  # (lat, lon)\n",
    "\n",
    "# Create a map centered at the first coordinate\n",
    "m = folium.Map(location=coordinates[0], zoom_start=5)\n",
    "\n",
    "# Add markers for each coordinate\n",
    "for lat, lon in coordinates:\n",
    "    folium.Marker([lat, lon], popup=f\"Lat: {lat}, Lon: {lon}\").add_to(m)\n",
    "\n",
    "# Display the map\n",
    "\n"
   ]
  },
  {
   "cell_type": "code",
   "execution_count": 53,
   "metadata": {},
   "outputs": [
    {
     "data": {
      "text/plain": [
       "<folium.vector_layers.CircleMarker at 0x21d676640d0>"
      ]
     },
     "execution_count": 53,
     "metadata": {},
     "output_type": "execute_result"
    }
   ],
   "source": [
    "folium.CircleMarker([40.7128, -74.0060], radius=10, color=\"red\", fill=True, fill_color=\"red\").add_to(m)\n",
    "\n"
   ]
  },
  {
   "cell_type": "code",
   "execution_count": null,
   "metadata": {},
   "outputs": [],
   "source": [
    "def plot_map_from_parquet(parquet_path, lat_col=\"latitude\", lon_col=\"longitude\", zoom=5):\n",
    "    \n",
    "\n",
    "    df = pd.read_parquet(parquet_path)\n",
    "\n",
    "\n",
    "    if lat_col not in df.columns or lon_col not in df.columns:\n",
    "        raise ValueError(f\"Columns '{lat_col}' or '{lon_col}' not found in dataset.\")\n",
    "\n",
    " \n",
    "    df = df.dropna(subset=[lat_col, lon_col])\n",
    "\n",
    "\n",
    "    map_center = [df[lat_col].mean(), df[lon_col].mean()]\n",
    "\n",
    "  \n",
    "    m = folium.Map(location=map_center, zoom_start=zoom)\n",
    "\n",
    "\n",
    "    for _, row in df.iterrows():\n",
    "        folium.Marker(\n",
    "            location=[row[lat_col], row[lon_col]],\n",
    "            popup=f\"Lat: {row[lat_col]}, Lon: {row[lon_col]}\",\n",
    "            icon=folium.Icon(color=\"blue\", icon=\"info-sign\")\n",
    "        ).add_to(m)\n",
    "\n",
    "    return m\n",
    "\n",
    "\n",
    "plot_map_from_parquet(DATASET, lat_col=\"latitude\", lon_col=\"longitude\", zoom=5)"
   ]
  },
  {
   "cell_type": "code",
   "execution_count": null,
   "metadata": {},
   "outputs": [],
   "source": []
  }
 ],
 "metadata": {
  "kernelspec": {
   "display_name": "Python 3",
   "language": "python",
   "name": "python3"
  },
  "language_info": {
   "codemirror_mode": {
    "name": "ipython",
    "version": 3
   },
   "file_extension": ".py",
   "mimetype": "text/x-python",
   "name": "python",
   "nbconvert_exporter": "python",
   "pygments_lexer": "ipython3",
   "version": "3.11.9"
  }
 },
 "nbformat": 4,
 "nbformat_minor": 2
}
